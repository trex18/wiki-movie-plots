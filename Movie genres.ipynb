{
 "cells": [
  {
   "cell_type": "code",
   "execution_count": 1,
   "metadata": {},
   "outputs": [],
   "source": [
    "%matplotlib inline"
   ]
  },
  {
   "cell_type": "code",
   "execution_count": 2,
   "metadata": {},
   "outputs": [],
   "source": [
    "import pandas as pd\n",
    "import numpy as np\n",
    "import matplotlib.pyplot as plt\n",
    "from collections import Counter\n",
    "import re"
   ]
  },
  {
   "cell_type": "markdown",
   "metadata": {},
   "source": [
    "#### Loading the data, first look at the data"
   ]
  },
  {
   "cell_type": "code",
   "execution_count": 3,
   "metadata": {},
   "outputs": [
    {
     "name": "stdout",
     "output_type": "stream",
     "text": [
      "Index(['Release Year', 'Title', 'Origin/Ethnicity', 'Director', 'Cast',\n",
      "       'Genre', 'Wiki Page', 'Plot'],\n",
      "      dtype='object')\n"
     ]
    }
   ],
   "source": [
    "df = pd.read_csv('wiki_movie_plots_deduped.csv')\n",
    "print(df.columns)"
   ]
  },
  {
   "cell_type": "code",
   "execution_count": 4,
   "metadata": {},
   "outputs": [
    {
     "data": {
      "text/html": [
       "<div>\n",
       "<style scoped>\n",
       "    .dataframe tbody tr th:only-of-type {\n",
       "        vertical-align: middle;\n",
       "    }\n",
       "\n",
       "    .dataframe tbody tr th {\n",
       "        vertical-align: top;\n",
       "    }\n",
       "\n",
       "    .dataframe thead th {\n",
       "        text-align: right;\n",
       "    }\n",
       "</style>\n",
       "<table border=\"1\" class=\"dataframe\">\n",
       "  <thead>\n",
       "    <tr style=\"text-align: right;\">\n",
       "      <th></th>\n",
       "      <th>Release Year</th>\n",
       "      <th>Title</th>\n",
       "      <th>Origin/Ethnicity</th>\n",
       "      <th>Director</th>\n",
       "      <th>Cast</th>\n",
       "      <th>Genre</th>\n",
       "      <th>Wiki Page</th>\n",
       "      <th>Plot</th>\n",
       "    </tr>\n",
       "  </thead>\n",
       "  <tbody>\n",
       "    <tr>\n",
       "      <th>11125</th>\n",
       "      <td>1989</td>\n",
       "      <td>The Big Picture</td>\n",
       "      <td>American</td>\n",
       "      <td>Christopher Guest</td>\n",
       "      <td>Kevin Bacon, Martin Short, Teri Hatcher, J.T. ...</td>\n",
       "      <td>comedy</td>\n",
       "      <td>https://en.wikipedia.org/wiki/The_Big_Picture_...</td>\n",
       "      <td>Film student and would-be writer/director Nick...</td>\n",
       "    </tr>\n",
       "    <tr>\n",
       "      <th>28984</th>\n",
       "      <td>1949</td>\n",
       "      <td>Krishna Bakthi</td>\n",
       "      <td>Tamil</td>\n",
       "      <td>R. S. Mani</td>\n",
       "      <td>P. U. Chinnappa, K. R. Ramaswamy, T. R. Rajaku...</td>\n",
       "      <td>unknown</td>\n",
       "      <td>https://en.wikipedia.org/wiki/Krishna_Bakthi_(...</td>\n",
       "      <td>Krishna Bakthi is the tale of hypocrite saint(...</td>\n",
       "    </tr>\n",
       "    <tr>\n",
       "      <th>27563</th>\n",
       "      <td>2017</td>\n",
       "      <td>Tiger</td>\n",
       "      <td>Kannada</td>\n",
       "      <td>Nanda Kishore</td>\n",
       "      <td>Pradeep, Madhuurima, P. Ravishankar, Chikkanna...</td>\n",
       "      <td>thriller drama</td>\n",
       "      <td>https://en.wikipedia.org/wiki/Tiger_(2017_film)</td>\n",
       "      <td>The movie Tiger is a Kannada action packed thr...</td>\n",
       "    </tr>\n",
       "    <tr>\n",
       "      <th>2411</th>\n",
       "      <td>1938</td>\n",
       "      <td>King of Alcatraz</td>\n",
       "      <td>American</td>\n",
       "      <td>Robert Florey</td>\n",
       "      <td>Lloyd Nolan, Robert Preston, J. Carrol Naish</td>\n",
       "      <td>drama, action</td>\n",
       "      <td>https://en.wikipedia.org/wiki/King_of_Alcatraz</td>\n",
       "      <td>Just as gangster Steve Murkil is escaping from...</td>\n",
       "    </tr>\n",
       "    <tr>\n",
       "      <th>12965</th>\n",
       "      <td>1997</td>\n",
       "      <td>Dream with the Fishes</td>\n",
       "      <td>American</td>\n",
       "      <td>Finn Taylor</td>\n",
       "      <td>David Arquette</td>\n",
       "      <td>drama</td>\n",
       "      <td>https://en.wikipedia.org/wiki/Dream_with_the_F...</td>\n",
       "      <td>The film follows Terry, a suicidal voyeur who ...</td>\n",
       "    </tr>\n",
       "  </tbody>\n",
       "</table>\n",
       "</div>"
      ],
      "text/plain": [
       "       Release Year                  Title Origin/Ethnicity  \\\n",
       "11125          1989        The Big Picture         American   \n",
       "28984          1949         Krishna Bakthi            Tamil   \n",
       "27563          2017                  Tiger          Kannada   \n",
       "2411           1938       King of Alcatraz         American   \n",
       "12965          1997  Dream with the Fishes         American   \n",
       "\n",
       "                Director                                               Cast  \\\n",
       "11125  Christopher Guest  Kevin Bacon, Martin Short, Teri Hatcher, J.T. ...   \n",
       "28984         R. S. Mani  P. U. Chinnappa, K. R. Ramaswamy, T. R. Rajaku...   \n",
       "27563      Nanda Kishore  Pradeep, Madhuurima, P. Ravishankar, Chikkanna...   \n",
       "2411       Robert Florey       Lloyd Nolan, Robert Preston, J. Carrol Naish   \n",
       "12965        Finn Taylor                                     David Arquette   \n",
       "\n",
       "                Genre                                          Wiki Page  \\\n",
       "11125          comedy  https://en.wikipedia.org/wiki/The_Big_Picture_...   \n",
       "28984         unknown  https://en.wikipedia.org/wiki/Krishna_Bakthi_(...   \n",
       "27563  thriller drama    https://en.wikipedia.org/wiki/Tiger_(2017_film)   \n",
       "2411    drama, action     https://en.wikipedia.org/wiki/King_of_Alcatraz   \n",
       "12965           drama  https://en.wikipedia.org/wiki/Dream_with_the_F...   \n",
       "\n",
       "                                                    Plot  \n",
       "11125  Film student and would-be writer/director Nick...  \n",
       "28984  Krishna Bakthi is the tale of hypocrite saint(...  \n",
       "27563  The movie Tiger is a Kannada action packed thr...  \n",
       "2411   Just as gangster Steve Murkil is escaping from...  \n",
       "12965  The film follows Terry, a suicidal voyeur who ...  "
      ]
     },
     "execution_count": 4,
     "metadata": {},
     "output_type": "execute_result"
    }
   ],
   "source": [
    "df.sample(5)"
   ]
  },
  {
   "cell_type": "code",
   "execution_count": 5,
   "metadata": {},
   "outputs": [],
   "source": [
    "df.drop(['Release Year', 'Origin/Ethnicity', 'Director', 'Cast', 'Wiki Page'], axis=1, inplace=True)"
   ]
  },
  {
   "cell_type": "markdown",
   "metadata": {},
   "source": [
    "#### Genres"
   ]
  },
  {
   "cell_type": "code",
   "execution_count": 6,
   "metadata": {},
   "outputs": [
    {
     "name": "stdout",
     "output_type": "stream",
     "text": [
      "There are 6083 movies out of 34886 with unknown genres.\n"
     ]
    }
   ],
   "source": [
    "print('There are {} movies out of {} with unknown genres.'.format(\n",
    "    df[df.Genre=='unknown'].shape[0] , df.shape[0]\n",
    "))\n",
    "\n",
    "movies_wo_genre = df[df.Genre == 'unknown']\n",
    "df.drop(df[df.Genre == 'unknown'].index, inplace=True)"
   ]
  },
  {
   "cell_type": "code",
   "execution_count": 7,
   "metadata": {},
   "outputs": [],
   "source": [
    "# genres were chosen as the words with the highest frequencies (which are also genres)\n",
    "\"\"\"\n",
    "genres_old = set([\n",
    "    'western', 'action', 'crime', 'biography', 'comedy', 'drama', 'adventure', 'fantasy', \n",
    "    'sports', 'horror', 'historical', 'serial', 'epic', 'mystery', 'romance','war', 'spy', \n",
    "    'romcom', 'animation', 'melodrama', 'documentary', 'family', 'thriller', 'musical', 'scifi', \n",
    "    'noir', 'disaster', 'political', 'adult', 'satire', 'mockumentary',  'psychological', \n",
    "    'martial', 'superhero', 'teen', 'children', 'supernatural', 'social', 'anime'\n",
    "])\n",
    "\"\"\"\n",
    "\n",
    "genres = set([\n",
    "    'comedy', 'scifi', 'horror', 'romance', 'action', 'thriller', 'drama', \n",
    "    'crime', 'adventure', 'fantasy', 'children', 'amimation'\n",
    "])\n",
    "\n",
    "# we replace the following collocations with genres from our list\n",
    "replacements = [\n",
    "    ('science fiction', ' scifi '),\n",
    "    ('science-fiction' , ' scifi '),\n",
    "    ('sci fi', 'scifi'),\n",
    "    ('sci-fi', 'scifi'),\n",
    "    ('science', ' scifi '),\n",
    "    ('animated', ' animation '),\n",
    "    ('romantic comedy', ' romcom romance comedy '),\n",
    "    ('romantic-comedy', ' romcom romance comedy '),\n",
    "    ('rom com', ' romcom romance comedy'),\n",
    "    ('romantic', ' romance '),\n",
    "    ('superheroes', ' superhero '),\n",
    "    ('tokusatsu', ' action '),\n",
    "    ('docudrama', ' documentary drama '),\n",
    "    ('dramedy', ' drama comedy '),\n",
    "    ('suspense', 'thriller')\n",
    "]\n",
    "\n",
    "def make_list_of_genres(text, replacements=replacements, genres=genres):\n",
    "    \"\"\"\n",
    "    Examples: \n",
    "    ----------\n",
    "    >>> text = 'drama  / comedy-biopick,  fantasy, science-fiction,, animation film'\n",
    "    >>> make_set_of_genres(text)\n",
    "    ['drama', 'comedy', 'biography', 'fantasy', 'scifi', 'animation', 'film']\n",
    "    \"\"\"\n",
    "\n",
    "    for replacement in replacements:\n",
    "        if replacement[0] in text:\n",
    "            text = text.replace(replacement[0], replacement[1])\n",
    "    \n",
    "    # we have words containing 'bio' replaced by 'biography'\n",
    "    if 'bio' in text:\n",
    "        text = re.sub(r'\\b(bio\\w*)', 'biography', text)\n",
    "    if 'child' in text:\n",
    "        text = re.sub(r'\\b(child\\w*)', \" children \", text)\n",
    "    if 'histor' in text:\n",
    "        text = re.sub(r'\\b(histor\\w*)', \" historical \", text)\n",
    "        \n",
    "    # I haven't found any easier way to split by multiple delimiters, including whitespaces \n",
    "    # and avoid ''\n",
    "    result = set(filter(None, re.split(',|/|-|\\s|–|;', text))) \n",
    "    \n",
    "    \n",
    "    return list(result & genres)"
   ]
  },
  {
   "cell_type": "code",
   "execution_count": 8,
   "metadata": {
    "scrolled": true
   },
   "outputs": [
    {
     "data": {
      "text/plain": [
       "['children', 'scifi', 'fantasy', 'comedy', 'drama']"
      ]
     },
     "execution_count": 8,
     "metadata": {},
     "output_type": "execute_result"
    }
   ],
   "source": [
    "# an example of using make_set_of_genres\n",
    "some_movie_genres = \"drama  / comedy-biopic,  fantasy, masala science-fiction,, animation film,,  children's\"\n",
    "make_list_of_genres(some_movie_genres)"
   ]
  },
  {
   "cell_type": "code",
   "execution_count": 31,
   "metadata": {},
   "outputs": [
    {
     "data": {
      "text/html": [
       "<div>\n",
       "<style scoped>\n",
       "    .dataframe tbody tr th:only-of-type {\n",
       "        vertical-align: middle;\n",
       "    }\n",
       "\n",
       "    .dataframe tbody tr th {\n",
       "        vertical-align: top;\n",
       "    }\n",
       "\n",
       "    .dataframe thead th {\n",
       "        text-align: right;\n",
       "    }\n",
       "</style>\n",
       "<table border=\"1\" class=\"dataframe\">\n",
       "  <thead>\n",
       "    <tr style=\"text-align: right;\">\n",
       "      <th></th>\n",
       "      <th>Title</th>\n",
       "      <th>Genre</th>\n",
       "      <th>Plot</th>\n",
       "      <th>action</th>\n",
       "      <th>adventure</th>\n",
       "      <th>children</th>\n",
       "      <th>comedy</th>\n",
       "      <th>crime</th>\n",
       "      <th>drama</th>\n",
       "      <th>fantasy</th>\n",
       "      <th>horror</th>\n",
       "      <th>romance</th>\n",
       "      <th>scifi</th>\n",
       "      <th>thriller</th>\n",
       "      <th>Plot_tokens</th>\n",
       "    </tr>\n",
       "  </thead>\n",
       "  <tbody>\n",
       "    <tr>\n",
       "      <th>0</th>\n",
       "      <td>Benny &amp; Joon</td>\n",
       "      <td>[comedy]</td>\n",
       "      <td>Benjamin \"Benny\" Pearl and his mentally ill si...</td>\n",
       "      <td>0</td>\n",
       "      <td>0</td>\n",
       "      <td>0</td>\n",
       "      <td>1</td>\n",
       "      <td>0</td>\n",
       "      <td>0</td>\n",
       "      <td>0</td>\n",
       "      <td>0</td>\n",
       "      <td>0</td>\n",
       "      <td>0</td>\n",
       "      <td>0</td>\n",
       "      <td>[benjamin, benni, pearl, mental, ill, sister, ...</td>\n",
       "    </tr>\n",
       "    <tr>\n",
       "      <th>1</th>\n",
       "      <td>Big Brother</td>\n",
       "      <td>[action, comedy]</td>\n",
       "      <td>Mahi, who is a rough woman gangster, used to e...</td>\n",
       "      <td>1</td>\n",
       "      <td>0</td>\n",
       "      <td>0</td>\n",
       "      <td>1</td>\n",
       "      <td>0</td>\n",
       "      <td>0</td>\n",
       "      <td>0</td>\n",
       "      <td>0</td>\n",
       "      <td>0</td>\n",
       "      <td>0</td>\n",
       "      <td>0</td>\n",
       "      <td>[mahi, rough, woman, gangster, use, expos, man...</td>\n",
       "    </tr>\n",
       "    <tr>\n",
       "      <th>2</th>\n",
       "      <td>Seeta Ramula Kalyanam Lankalo</td>\n",
       "      <td>[action]</td>\n",
       "      <td>Chandra Shekhar aka Chandu (Nitin) is a darede...</td>\n",
       "      <td>1</td>\n",
       "      <td>0</td>\n",
       "      <td>0</td>\n",
       "      <td>0</td>\n",
       "      <td>0</td>\n",
       "      <td>0</td>\n",
       "      <td>0</td>\n",
       "      <td>0</td>\n",
       "      <td>0</td>\n",
       "      <td>0</td>\n",
       "      <td>0</td>\n",
       "      <td>[chandra, shekhar, aka, chandu, nitin, daredev...</td>\n",
       "    </tr>\n",
       "    <tr>\n",
       "      <th>3</th>\n",
       "      <td>Moneyball</td>\n",
       "      <td>[drama]</td>\n",
       "      <td>Oakland Athletics general manager Billy Beane ...</td>\n",
       "      <td>0</td>\n",
       "      <td>0</td>\n",
       "      <td>0</td>\n",
       "      <td>0</td>\n",
       "      <td>0</td>\n",
       "      <td>1</td>\n",
       "      <td>0</td>\n",
       "      <td>0</td>\n",
       "      <td>0</td>\n",
       "      <td>0</td>\n",
       "      <td>0</td>\n",
       "      <td>[oakland, athlet, gener, manag, billi, bean, u...</td>\n",
       "    </tr>\n",
       "    <tr>\n",
       "      <th>4</th>\n",
       "      <td>Heropanti</td>\n",
       "      <td>[romance, action]</td>\n",
       "      <td>Chaudhary (Prakash Raj) is a very well known a...</td>\n",
       "      <td>1</td>\n",
       "      <td>0</td>\n",
       "      <td>0</td>\n",
       "      <td>0</td>\n",
       "      <td>0</td>\n",
       "      <td>0</td>\n",
       "      <td>0</td>\n",
       "      <td>0</td>\n",
       "      <td>1</td>\n",
       "      <td>0</td>\n",
       "      <td>0</td>\n",
       "      <td>[chaudhari, prakash, raj, well, known, respect...</td>\n",
       "    </tr>\n",
       "    <tr>\n",
       "      <th>...</th>\n",
       "      <td>...</td>\n",
       "      <td>...</td>\n",
       "      <td>...</td>\n",
       "      <td>...</td>\n",
       "      <td>...</td>\n",
       "      <td>...</td>\n",
       "      <td>...</td>\n",
       "      <td>...</td>\n",
       "      <td>...</td>\n",
       "      <td>...</td>\n",
       "      <td>...</td>\n",
       "      <td>...</td>\n",
       "      <td>...</td>\n",
       "      <td>...</td>\n",
       "      <td>...</td>\n",
       "    </tr>\n",
       "    <tr>\n",
       "      <th>18000</th>\n",
       "      <td>The Quiet Man</td>\n",
       "      <td>[romance, comedy]</td>\n",
       "      <td>In the 1920s, Sean Thornton (John Wayne), an I...</td>\n",
       "      <td>0</td>\n",
       "      <td>0</td>\n",
       "      <td>0</td>\n",
       "      <td>1</td>\n",
       "      <td>0</td>\n",
       "      <td>0</td>\n",
       "      <td>0</td>\n",
       "      <td>0</td>\n",
       "      <td>1</td>\n",
       "      <td>0</td>\n",
       "      <td>0</td>\n",
       "      <td>[1920, sean, thornton, john, wayn, irishborn, ...</td>\n",
       "    </tr>\n",
       "    <tr>\n",
       "      <th>18001</th>\n",
       "      <td>The Virgin and the Gypsy</td>\n",
       "      <td>[drama]</td>\n",
       "      <td>Based on a 1926 work by D.H. Lawrence, the fil...</td>\n",
       "      <td>0</td>\n",
       "      <td>0</td>\n",
       "      <td>0</td>\n",
       "      <td>0</td>\n",
       "      <td>0</td>\n",
       "      <td>1</td>\n",
       "      <td>0</td>\n",
       "      <td>0</td>\n",
       "      <td>0</td>\n",
       "      <td>0</td>\n",
       "      <td>0</td>\n",
       "      <td>[base, 1926, work, dh, lawrenc, film, follow, ...</td>\n",
       "    </tr>\n",
       "    <tr>\n",
       "      <th>18002</th>\n",
       "      <td>Mississippi Burning</td>\n",
       "      <td>[crime, drama]</td>\n",
       "      <td>In 1964, three civil rights workers — two Jewi...</td>\n",
       "      <td>0</td>\n",
       "      <td>0</td>\n",
       "      <td>0</td>\n",
       "      <td>0</td>\n",
       "      <td>1</td>\n",
       "      <td>1</td>\n",
       "      <td>0</td>\n",
       "      <td>0</td>\n",
       "      <td>0</td>\n",
       "      <td>0</td>\n",
       "      <td>0</td>\n",
       "      <td>[1964, three, civil, right, worker, —, two, je...</td>\n",
       "    </tr>\n",
       "    <tr>\n",
       "      <th>18003</th>\n",
       "      <td>The Old Jar Craftsman</td>\n",
       "      <td>[drama]</td>\n",
       "      <td>A lonely old man who makes a living as a potte...</td>\n",
       "      <td>0</td>\n",
       "      <td>0</td>\n",
       "      <td>0</td>\n",
       "      <td>0</td>\n",
       "      <td>0</td>\n",
       "      <td>1</td>\n",
       "      <td>0</td>\n",
       "      <td>0</td>\n",
       "      <td>0</td>\n",
       "      <td>0</td>\n",
       "      <td>0</td>\n",
       "      <td>[lone, old, man, make, live, potter, save, lif...</td>\n",
       "    </tr>\n",
       "    <tr>\n",
       "      <th>18004</th>\n",
       "      <td>Twice in a Lifetime</td>\n",
       "      <td>[drama]</td>\n",
       "      <td>Harry Mackenzie works in a factory by day, and...</td>\n",
       "      <td>0</td>\n",
       "      <td>0</td>\n",
       "      <td>0</td>\n",
       "      <td>0</td>\n",
       "      <td>0</td>\n",
       "      <td>1</td>\n",
       "      <td>0</td>\n",
       "      <td>0</td>\n",
       "      <td>0</td>\n",
       "      <td>0</td>\n",
       "      <td>0</td>\n",
       "      <td>[harri, mackenzi, work, factori, day, come, ho...</td>\n",
       "    </tr>\n",
       "  </tbody>\n",
       "</table>\n",
       "<p>18005 rows × 15 columns</p>\n",
       "</div>"
      ],
      "text/plain": [
       "                               Title              Genre  \\\n",
       "0                       Benny & Joon           [comedy]   \n",
       "1                        Big Brother   [action, comedy]   \n",
       "2      Seeta Ramula Kalyanam Lankalo           [action]   \n",
       "3                          Moneyball            [drama]   \n",
       "4                          Heropanti  [romance, action]   \n",
       "...                              ...                ...   \n",
       "18000                  The Quiet Man  [romance, comedy]   \n",
       "18001       The Virgin and the Gypsy            [drama]   \n",
       "18002            Mississippi Burning     [crime, drama]   \n",
       "18003          The Old Jar Craftsman            [drama]   \n",
       "18004            Twice in a Lifetime            [drama]   \n",
       "\n",
       "                                                    Plot  action  adventure  \\\n",
       "0      Benjamin \"Benny\" Pearl and his mentally ill si...       0          0   \n",
       "1      Mahi, who is a rough woman gangster, used to e...       1          0   \n",
       "2      Chandra Shekhar aka Chandu (Nitin) is a darede...       1          0   \n",
       "3      Oakland Athletics general manager Billy Beane ...       0          0   \n",
       "4      Chaudhary (Prakash Raj) is a very well known a...       1          0   \n",
       "...                                                  ...     ...        ...   \n",
       "18000  In the 1920s, Sean Thornton (John Wayne), an I...       0          0   \n",
       "18001  Based on a 1926 work by D.H. Lawrence, the fil...       0          0   \n",
       "18002  In 1964, three civil rights workers — two Jewi...       0          0   \n",
       "18003  A lonely old man who makes a living as a potte...       0          0   \n",
       "18004  Harry Mackenzie works in a factory by day, and...       0          0   \n",
       "\n",
       "       children  comedy  crime  drama  fantasy  horror  romance  scifi  \\\n",
       "0             0       1      0      0        0       0        0      0   \n",
       "1             0       1      0      0        0       0        0      0   \n",
       "2             0       0      0      0        0       0        0      0   \n",
       "3             0       0      0      1        0       0        0      0   \n",
       "4             0       0      0      0        0       0        1      0   \n",
       "...         ...     ...    ...    ...      ...     ...      ...    ...   \n",
       "18000         0       1      0      0        0       0        1      0   \n",
       "18001         0       0      0      1        0       0        0      0   \n",
       "18002         0       0      1      1        0       0        0      0   \n",
       "18003         0       0      0      1        0       0        0      0   \n",
       "18004         0       0      0      1        0       0        0      0   \n",
       "\n",
       "       thriller                                        Plot_tokens  \n",
       "0             0  [benjamin, benni, pearl, mental, ill, sister, ...  \n",
       "1             0  [mahi, rough, woman, gangster, use, expos, man...  \n",
       "2             0  [chandra, shekhar, aka, chandu, nitin, daredev...  \n",
       "3             0  [oakland, athlet, gener, manag, billi, bean, u...  \n",
       "4             0  [chaudhari, prakash, raj, well, known, respect...  \n",
       "...         ...                                                ...  \n",
       "18000         0  [1920, sean, thornton, john, wayn, irishborn, ...  \n",
       "18001         0  [base, 1926, work, dh, lawrenc, film, follow, ...  \n",
       "18002         0  [1964, three, civil, right, worker, —, two, je...  \n",
       "18003         0  [lone, old, man, make, live, potter, save, lif...  \n",
       "18004         0  [harri, mackenzi, work, factori, day, come, ho...  \n",
       "\n",
       "[18005 rows x 15 columns]"
      ]
     },
     "execution_count": 31,
     "metadata": {},
     "output_type": "execute_result"
    }
   ],
   "source": [
    "df"
   ]
  },
  {
   "cell_type": "code",
   "execution_count": 9,
   "metadata": {},
   "outputs": [],
   "source": [
    "genres_column = df.Genre.apply(make_list_of_genres)\n",
    "\n",
    "df.Genre = genres_column\n",
    "\n",
    "# we drop all entries where genre is not in the given list\n",
    "df.drop(genres_column[genres_column.apply(len) == 0].index, inplace=True)\n",
    "df.reset_index(inplace=True)\n",
    "df.drop(['index'], axis=1, inplace=True)"
   ]
  },
  {
   "cell_type": "code",
   "execution_count": 11,
   "metadata": {
    "scrolled": false
   },
   "outputs": [
    {
     "data": {
      "text/plain": [
       "<matplotlib.axes._subplots.AxesSubplot at 0x1b44aa41908>"
      ]
     },
     "execution_count": 11,
     "metadata": {},
     "output_type": "execute_result"
    },
    {
     "data": {
      "image/png": "[encoded data removed]",
      "text/plain": [
       "<Figure size 1296x720 with 1 Axes>"
      ]
     },
     "metadata": {
      "needs_background": "light"
     },
     "output_type": "display_data"
    }
   ],
   "source": [
    "import seaborn as sns\n",
    "plt.figure(figsize=(18, 10))\n",
    "plt.title('Distribution by genres')\n",
    "genres_df = pd.DataFrame({'a':[y for x in df['Genre'] for y in x]})\n",
    "sns.countplot(x='a', data=genres_df)"
   ]
  },
  {
   "cell_type": "code",
   "execution_count": 12,
   "metadata": {},
   "outputs": [],
   "source": [
    "# adding columns for one-hot encoding of genre\n",
    "df = df.join(df.Genre.str.join('|').str.get_dummies())"
   ]
  },
  {
   "cell_type": "raw",
   "metadata": {},
   "source": [
    "# this block was needed to find out which words could have been chosen as the genres\n",
    "from itertools import dropwhile\n",
    "\n",
    "genres_concatenated = []\n",
    "for genre in genres_column:\n",
    "    genres_concatenated.extend(genre)\n",
    "    \n",
    "genres_word_counts = Counter(genres_concatenated)\n",
    "print(genres_word_counts)\n",
    "\n",
    "for key, count in dropwhile(lambda key_count: key_count[1] >= 30, genres_word_counts.most_common()):\n",
    "    del genres_word_counts[key]\n",
    "    \n",
    "genres = list(genres_word_counts.keys())\n",
    "print(genres_word_counts)"
   ]
  },
  {
   "cell_type": "markdown",
   "metadata": {},
   "source": [
    "#### Plot"
   ]
  },
  {
   "cell_type": "code",
   "execution_count": 13,
   "metadata": {},
   "outputs": [
    {
     "name": "stdout",
     "output_type": "stream",
     "text": [
      "Some stats for the plot lengths:\n",
      "\n",
      "count    23852.000000\n",
      "mean       387.565236\n",
      "std        313.827841\n",
      "min          2.000000\n",
      "25%        128.000000\n",
      "50%        312.000000\n",
      "75%        605.000000\n",
      "max       5130.000000\n",
      "Name: Plot, dtype: float64\n"
     ]
    },
    {
     "data": {
      "image/png": "[encoded data removed]",
      "text/plain": [
       "<Figure size 1296x432 with 1 Axes>"
      ]
     },
     "metadata": {
      "needs_background": "light"
     },
     "output_type": "display_data"
    }
   ],
   "source": [
    "def num_words(text):\n",
    "    return len(text.split())\n",
    "\n",
    "plot_lengths = df.Plot.apply(num_words)\n",
    "print('Some stats for the plot lengths:\\n')\n",
    "print(plot_lengths.describe())\n",
    "\n",
    "plt.figure(figsize=(18, 6))\n",
    "plt.hist(plot_lengths, range=(0, 1500), bins=50)\n",
    "plt.title(\"Distribution of movies's plot lengths\")\n",
    "plt.show()"
   ]
  },
  {
   "cell_type": "code",
   "execution_count": 14,
   "metadata": {},
   "outputs": [
    {
     "name": "stdout",
     "output_type": "stream",
     "text": [
      "A British naval officer volunteers for a dangerous mission to infiltrate the base of pirates who threaten shipping off Madagascar.\n",
      "\n",
      "Henry Aldrich becomes the most sought after guy in town when he wins a date with a movie star.\n",
      "\n",
      "Terrorists take over a mountain ski resort with a stolen nuclear weapon and a ski patrolman attempts to stop them.\n",
      "\n",
      "A mother and wife stricken with memory loss allows a dysfunctional family a second chance at harmony and happiness.\n",
      "\n",
      "The film tells the story of a punk's entanglements with a pure young girl.\n",
      "\n",
      "The former Jo March (O'Brien-Moore), now married to Prof. Bhaer (Morgan), opens a boarding school for wayward boys.\n",
      "\n",
      "Upon learning they only have a few days left to live, three brothers set off to reverse a lifetime of mistakes.[1]\n",
      "\n",
      "Kranti Kshetra is a Campus-based Action thriller starring Mithun Chakraborty with Shakti Kapoor and Gulshan Grover.\n",
      "\n",
      "A young couple struggle with their overbearing parents.[1]\n",
      "\n",
      "An American tycoon, Michael Bergman, arrives in Melbourne and has an affair with Michelle, a married secretary.[3]\n",
      "\n"
     ]
    }
   ],
   "source": [
    "# a quick loom at what short plots look like\n",
    "short_plots = df[plot_lengths < 25].sample(10).Plot\n",
    "for plot in short_plots:\n",
    "    print(plot + '\\n')"
   ]
  },
  {
   "cell_type": "markdown",
   "metadata": {},
   "source": [
    "--------------------------------------------------------------------------------------------------------------------------------\n",
    "short plots aren't very informative, and it's hard to determine the genre."
   ]
  },
  {
   "cell_type": "code",
   "execution_count": 15,
   "metadata": {
    "scrolled": false
   },
   "outputs": [
    {
     "name": "stdout",
     "output_type": "stream",
     "text": [
      "When Los Angeles' police force down-on-her-luck businesswoman-turned-prostitute \"Princess\" to help capture a murderous pimp named Ramrod it's Princess's life that is put on the line. Soon, the escaped killer is after her, and vice squad detective Tom Walsh and his team are hard pressed to keep the woman safe.\n",
      "\n",
      "A dreamy farm widow, played by Shore, is obsessed with moving to the city. She is courted by shy-bumpkin neighbor (Young). She is almost tricked out of her oil-rich land by crooks (Merrill and Jergens) who alone knows about the oil.[4][5]\n",
      "\n",
      "Soldiers in a rural military base are being brutally murdered. They suspect a wild cat. Two local ladies: Joyce Balentine (Flora Robson) and Ellie (Beryl Reid) suspect it may be their brother, Steven (Dafydd Havard); a man who has been locked in a basement for thirty years.\n",
      "\n",
      "Police try to solve a case involving a woman who fell to her death from the top of a block of high-rise flats. In this film, the two detectives discover and explore their new found love for drinking, leading to the stereotypical downfalls of alcoholism.\n",
      "\n",
      "Katyusha, a country girl, is seduced and abandoned by Prince Dimitry. Dimitry finds himself, years later, on a jury trying the same Katyusha for a crime he now realizes his actions drove her to. He follows her to imprisonment in Siberia, intent on redeeming her and himself as well.[1]\n",
      "\n",
      "The film presents Yamamoto's family life, his attempts to prevent the impending conflict with the United States amid World War II and his run-ins with Japanese war hawks. The Japanese military establishment entangles Yamamoto in the war and orders him to prepare the attack on Pearl Harbor.\n",
      "\n",
      "This literary adaptation tells the story of Oh Mong-nyeo, a young woman living with her adopted father in a seaside village. When men in the village attempt to rape her, she escapes by boat with her boyfriend to seek a better life elsewhere.\n",
      "\n",
      "It narrates the different stages of the life of Davis George, who leads a happy life with his wife and children, but a murder of a girl that occurs in their neighborhood changes his life. Shazia Akbar, a police officer, enters the scene after years.\n",
      "\n",
      "When the kind hearted duke of the manor dies, he leaves his estate to his Black and Tan Coonhound, Hubert, with Charlotte the Butler's niece as his guardian. However, two greedy relatives have it in for the dog, as they scheme to take over the manor!\n",
      "\n",
      "Eustace McGargle (Fields), a con artist, snake oil salesman and exponent of the shell game, tries to escape the sheriff while taking care of his beloved adopted daughter, Poppy (Hudson), who after pretending to be an heiress to win an inheritance, turns out to really be an heiress.[3]\n",
      "\n"
     ]
    }
   ],
   "source": [
    "# a quick look of what the plot of ~45 words looks like\n",
    "medium_plots = df[(plot_lengths>40) & (plot_lengths<50)].sample(10).Plot\n",
    "for plot in medium_plots:\n",
    "    print(plot + '\\n')"
   ]
  },
  {
   "cell_type": "markdown",
   "metadata": {},
   "source": [
    "------------------------------------------------------------------------------------------------------------------------------\n",
    "Let's cut off all the movies with short (< 40 words) plots. From the histogram above one can see that they constitute only for a small fraction of the total number of movies."
   ]
  },
  {
   "cell_type": "code",
   "execution_count": 16,
   "metadata": {},
   "outputs": [],
   "source": [
    "# dropping the rows with short plots\n",
    "df.drop((df[plot_lengths < 40]).index, inplace=True)\n",
    "df.reset_index(inplace=True)\n",
    "df.drop(['index'], axis=1, inplace=True)"
   ]
  },
  {
   "cell_type": "markdown",
   "metadata": {},
   "source": [
    "#### removing stopwords, tokenizing"
   ]
  },
  {
   "cell_type": "code",
   "execution_count": 17,
   "metadata": {},
   "outputs": [],
   "source": [
    "import nltk\n",
    "from nltk import word_tokenize\n",
    "from nltk.corpus import stopwords\n",
    "from nltk.stem import PorterStemmer\n",
    "from nltk.stem.wordnet import WordNetLemmatizer\n",
    "import string"
   ]
  },
  {
   "cell_type": "code",
   "execution_count": 18,
   "metadata": {},
   "outputs": [],
   "source": [
    "stopwords_english = stopwords.words('english')\n",
    "ps = PorterStemmer()"
   ]
  },
  {
   "cell_type": "code",
   "execution_count": 19,
   "metadata": {},
   "outputs": [],
   "source": [
    "def preprocess_text(text, stemmer, stopwords_list=stopwords_english):\n",
    "    \"\"\"\n",
    "    Converts to lowercase, removes punctuation and stopwords, tokenizes, stems the words. \n",
    "    Returns the list of tokens.\n",
    "    \"\"\"\n",
    "    \n",
    "    text = text.lower().translate(str.maketrans('', '', string.punctuation))\n",
    "    tokenized_text = word_tokenize(text)\n",
    "    result = []\n",
    "    for word in tokenized_text:\n",
    "        if word not in stopwords_list:\n",
    "            result.append(ps.stem(word))\n",
    "        \n",
    "    return result"
   ]
  },
  {
   "cell_type": "code",
   "execution_count": 20,
   "metadata": {},
   "outputs": [],
   "source": [
    "df['Plot_tokens'] = ''\n",
    "df['Plot_tokens'] = df.Plot.apply(preprocess_text, stopwords_list=stopwords_english, stemmer=ps)"
   ]
  },
  {
   "cell_type": "markdown",
   "metadata": {},
   "source": [
    "#### Train and test data"
   ]
  },
  {
   "cell_type": "code",
   "execution_count": 21,
   "metadata": {},
   "outputs": [],
   "source": [
    "from sklearn.model_selection import train_test_split\n",
    "df, df_test = train_test_split(df, test_size=0.2)"
   ]
  },
  {
   "cell_type": "code",
   "execution_count": 22,
   "metadata": {},
   "outputs": [],
   "source": [
    "df.reset_index(inplace=True)\n",
    "df.drop(['index'], axis=1, inplace=True)\n",
    "df_test.reset_index(inplace=True)\n",
    "df_test.drop(['index'], axis=1, inplace=True)"
   ]
  },
  {
   "cell_type": "markdown",
   "metadata": {},
   "source": [
    "#### Word2Vec, Tf-Idf and Getting vectors for 'Plots'"
   ]
  },
  {
   "cell_type": "code",
   "execution_count": 23,
   "metadata": {},
   "outputs": [],
   "source": [
    "from gensim.models import Word2Vec\n",
    "from sklearn.feature_extraction.text import TfidfVectorizer"
   ]
  },
  {
   "cell_type": "code",
   "execution_count": 24,
   "metadata": {},
   "outputs": [],
   "source": [
    "model = Word2Vec(df['Plot_tokens'], min_count = 25, size = 100, window=6) #change min_count = 25"
   ]
  },
  {
   "cell_type": "code",
   "execution_count": 25,
   "metadata": {},
   "outputs": [],
   "source": [
    "tfidf_vectorizer = TfidfVectorizer()\n",
    "tfidf_vectorizer.fit(df.Plot)\n",
    "tfidf_matrix_test = tfidf_vectorizer.transform(df_test.Plot) # should be plot_test\n",
    "tfidf_matrix = tfidf_vectorizer.transform(df.Plot)"
   ]
  },
  {
   "cell_type": "code",
   "execution_count": 26,
   "metadata": {},
   "outputs": [],
   "source": [
    "def document2vec(text, text_tokenized, idx, model, vectorizer, tfidf_matrix, vec_dim=100):\n",
    "    \"\"\"\n",
    "    Returns vector representation of text by summing W2V vectors with Tf-Idf weights\n",
    "    idx stands for the index of text inside of the tfidf_matrix\n",
    "    \"\"\"\n",
    "    doc_vec = np.zeros(vec_dim)\n",
    "    for word in text_tokenized:\n",
    "        if word in model.wv.vocab and word in vectorizer.vocabulary_:\n",
    "            doc_vec += model.wv[word] * tfidf_matrix[idx, vectorizer.vocabulary_[word]]\n",
    "            \n",
    "    return doc_vec"
   ]
  },
  {
   "cell_type": "code",
   "execution_count": 27,
   "metadata": {},
   "outputs": [],
   "source": [
    "# getting vector representations for df_test['Plot'].\n",
    "plot_vecs = np.empty([df.shape[0], 100]) \n",
    "for i in range(df.shape[0]):\n",
    "    plot_vecs[i] = document2vec(text=df.Plot[i], text_tokenized=df['Plot_tokens'][i], \n",
    "                               idx=i, model=model, vectorizer=tfidf_vectorizer, \n",
    "                               tfidf_matrix=tfidf_matrix)\n",
    "\n",
    "plot_vecs_test = np.empty([df_test.shape[0], 100]) \n",
    "for i in range(df_test.shape[0]):\n",
    "    plot_vecs_test[i] = document2vec(text=df_test.Plot[i], text_tokenized=df_test['Plot_tokens'][i], \n",
    "                               idx=i, model=model, vectorizer=tfidf_vectorizer, \n",
    "                               tfidf_matrix=tfidf_matrix_test)"
   ]
  },
  {
   "cell_type": "markdown",
   "metadata": {},
   "source": [
    "#### classification"
   ]
  },
  {
   "cell_type": "code",
   "execution_count": 36,
   "metadata": {},
   "outputs": [],
   "source": [
    "from sklearn.svm import LinearSVC\n",
    "from sklearn.metrics import accuracy_score"
   ]
  },
  {
   "cell_type": "code",
   "execution_count": 37,
   "metadata": {},
   "outputs": [],
   "source": [
    "genres = ['action', 'adventure', 'children', 'comedy', 'crime', 'drama',\n",
    "          'fantasy', 'horror', 'romance', 'scifi', 'thriller']"
   ]
  },
  {
   "cell_type": "code",
   "execution_count": 38,
   "metadata": {},
   "outputs": [
    {
     "name": "stderr",
     "output_type": "stream",
     "text": [
      "C:\\Users\\Temirlan\\Anaconda3\\lib\\site-packages\\sklearn\\svm\\base.py:929: ConvergenceWarning: Liblinear failed to converge, increase the number of iterations.\n",
      "  \"the number of iterations.\", ConvergenceWarning)\n",
      "C:\\Users\\Temirlan\\Anaconda3\\lib\\site-packages\\sklearn\\svm\\base.py:929: ConvergenceWarning: Liblinear failed to converge, increase the number of iterations.\n",
      "  \"the number of iterations.\", ConvergenceWarning)\n",
      "C:\\Users\\Temirlan\\Anaconda3\\lib\\site-packages\\sklearn\\svm\\base.py:929: ConvergenceWarning: Liblinear failed to converge, increase the number of iterations.\n",
      "  \"the number of iterations.\", ConvergenceWarning)\n",
      "C:\\Users\\Temirlan\\Anaconda3\\lib\\site-packages\\sklearn\\svm\\base.py:929: ConvergenceWarning: Liblinear failed to converge, increase the number of iterations.\n",
      "  \"the number of iterations.\", ConvergenceWarning)\n",
      "C:\\Users\\Temirlan\\Anaconda3\\lib\\site-packages\\sklearn\\svm\\base.py:929: ConvergenceWarning: Liblinear failed to converge, increase the number of iterations.\n",
      "  \"the number of iterations.\", ConvergenceWarning)\n",
      "C:\\Users\\Temirlan\\Anaconda3\\lib\\site-packages\\sklearn\\svm\\base.py:929: ConvergenceWarning: Liblinear failed to converge, increase the number of iterations.\n",
      "  \"the number of iterations.\", ConvergenceWarning)\n",
      "C:\\Users\\Temirlan\\Anaconda3\\lib\\site-packages\\sklearn\\svm\\base.py:929: ConvergenceWarning: Liblinear failed to converge, increase the number of iterations.\n",
      "  \"the number of iterations.\", ConvergenceWarning)\n",
      "C:\\Users\\Temirlan\\Anaconda3\\lib\\site-packages\\sklearn\\svm\\base.py:929: ConvergenceWarning: Liblinear failed to converge, increase the number of iterations.\n",
      "  \"the number of iterations.\", ConvergenceWarning)\n",
      "C:\\Users\\Temirlan\\Anaconda3\\lib\\site-packages\\sklearn\\svm\\base.py:929: ConvergenceWarning: Liblinear failed to converge, increase the number of iterations.\n",
      "  \"the number of iterations.\", ConvergenceWarning)\n",
      "C:\\Users\\Temirlan\\Anaconda3\\lib\\site-packages\\sklearn\\svm\\base.py:929: ConvergenceWarning: Liblinear failed to converge, increase the number of iterations.\n",
      "  \"the number of iterations.\", ConvergenceWarning)\n",
      "C:\\Users\\Temirlan\\Anaconda3\\lib\\site-packages\\sklearn\\svm\\base.py:929: ConvergenceWarning: Liblinear failed to converge, increase the number of iterations.\n",
      "  \"the number of iterations.\", ConvergenceWarning)\n"
     ]
    }
   ],
   "source": [
    "accuracies = {}\n",
    "for genre in genres:\n",
    "    clf = LinearSVC(max_iter=10000)\n",
    "    clf.fit(plot_vecs, y=df[genre])\n",
    "    y_pred = clf.predict(plot_vecs)    \n",
    "    accuracies[genre] = accuracy_score(y_pred=y_pred, y_true=df[genre])"
   ]
  },
  {
   "cell_type": "code",
   "execution_count": 39,
   "metadata": {},
   "outputs": [
    {
     "name": "stdout",
     "output_type": "stream",
     "text": [
      "accuracy for  action : 0.8983615662316023\n",
      "accuracy for  adventure : 0.9636212163287976\n",
      "accuracy for  children : 0.9980005554012774\n",
      "accuracy for  comedy : 0.7066370452652041\n",
      "accuracy for  crime : 0.9317967231324632\n",
      "accuracy for  drama : 0.6420994168286587\n",
      "accuracy for  fantasy : 0.9771730074979172\n",
      "accuracy for  horror : 0.9321855040266592\n",
      "accuracy for  romance : 0.89225215217995\n",
      "accuracy for  scifi : 0.9594001666203832\n",
      "accuracy for  thriller : 0.9166898083865593\n"
     ]
    }
   ],
   "source": [
    "for key, val in zip(accuracies.keys(), accuracies.values()):\n",
    "    print('accuracy for ', key, ':', val)"
   ]
  }
 ],
 "metadata": {
  "kernelspec": {
   "display_name": "Python 3",
   "language": "python",
   "name": "python3"
  },
  "language_info": {
   "codemirror_mode": {
    "name": "ipython",
    "version": 3
   },
   "file_extension": ".py",
   "mimetype": "text/x-python",
   "name": "python",
   "nbconvert_exporter": "python",
   "pygments_lexer": "ipython3",
   "version": "3.7.1"
  }
 },
 "nbformat": 4,
 "nbformat_minor": 2
}
