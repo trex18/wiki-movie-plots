{
 "cells": [
  {
   "cell_type": "code",
   "execution_count": 2,
   "metadata": {},
   "outputs": [],
   "source": [
    "%matplotlib inline"
   ]
  },
  {
   "cell_type": "code",
   "execution_count": 3,
   "metadata": {},
   "outputs": [],
   "source": [
    "import pandas as pd\n",
    "import numpy as np\n",
    "import matplotlib.pyplot as plt\n",
    "from collections import Counter\n",
    "import re"
   ]
  },
  {
   "cell_type": "markdown",
   "metadata": {},
   "source": [
    "#### Loading the data, first look at the data"
   ]
  },
  {
   "cell_type": "code",
   "execution_count": 4,
   "metadata": {},
   "outputs": [
    {
     "name": "stdout",
     "output_type": "stream",
     "text": [
      "Index(['Release Year', 'Title', 'Origin/Ethnicity', 'Director', 'Cast',\n",
      "       'Genre', 'Wiki Page', 'Plot'],\n",
      "      dtype='object')\n"
     ]
    }
   ],
   "source": [
    "df = pd.read_csv('wiki_movie_plots_deduped.csv')\n",
    "print(df.columns)"
   ]
  },
  {
   "cell_type": "code",
   "execution_count": 5,
   "metadata": {},
   "outputs": [
    {
     "data": {
      "text/html": [
       "<div>\n",
       "<style scoped>\n",
       "    .dataframe tbody tr th:only-of-type {\n",
       "        vertical-align: middle;\n",
       "    }\n",
       "\n",
       "    .dataframe tbody tr th {\n",
       "        vertical-align: top;\n",
       "    }\n",
       "\n",
       "    .dataframe thead th {\n",
       "        text-align: right;\n",
       "    }\n",
       "</style>\n",
       "<table border=\"1\" class=\"dataframe\">\n",
       "  <thead>\n",
       "    <tr style=\"text-align: right;\">\n",
       "      <th></th>\n",
       "      <th>Release Year</th>\n",
       "      <th>Title</th>\n",
       "      <th>Origin/Ethnicity</th>\n",
       "      <th>Director</th>\n",
       "      <th>Cast</th>\n",
       "      <th>Genre</th>\n",
       "      <th>Wiki Page</th>\n",
       "      <th>Plot</th>\n",
       "    </tr>\n",
       "  </thead>\n",
       "  <tbody>\n",
       "    <tr>\n",
       "      <th>18493</th>\n",
       "      <td>1938</td>\n",
       "      <td>The Londonderry Air</td>\n",
       "      <td>British</td>\n",
       "      <td>Alex Bryce</td>\n",
       "      <td>Sara Allgood, Liam Gaffney</td>\n",
       "      <td>romance</td>\n",
       "      <td>https://en.wikipedia.org/wiki/The_Londonderry_...</td>\n",
       "      <td>A young woman abandons her plans to settle dow...</td>\n",
       "    </tr>\n",
       "    <tr>\n",
       "      <th>5222</th>\n",
       "      <td>1950</td>\n",
       "      <td>The Second Woman</td>\n",
       "      <td>American</td>\n",
       "      <td>James V. Kern</td>\n",
       "      <td>Robert Young, Betsy Drake</td>\n",
       "      <td>film noir</td>\n",
       "      <td>https://en.wikipedia.org/wiki/The_Second_Woman</td>\n",
       "      <td>This psychological thriller tells the story of...</td>\n",
       "    </tr>\n",
       "    <tr>\n",
       "      <th>23531</th>\n",
       "      <td>2004</td>\n",
       "      <td>Rice Rhapsody</td>\n",
       "      <td>Hong Kong</td>\n",
       "      <td>Kenneth Bi</td>\n",
       "      <td>Sylvia Chang, Martin Yan</td>\n",
       "      <td>comedy</td>\n",
       "      <td>https://en.wikipedia.org/wiki/Rice_Rhapsody</td>\n",
       "      <td>The film is set in Singapore's Chinatown. It i...</td>\n",
       "    </tr>\n",
       "    <tr>\n",
       "      <th>24244</th>\n",
       "      <td>1938</td>\n",
       "      <td>Bhabhi</td>\n",
       "      <td>Bollywood</td>\n",
       "      <td>Franz Osten</td>\n",
       "      <td>P. Jairaj, Renuka Devi, Maya Devi, P. F. Pitha...</td>\n",
       "      <td>social family drama</td>\n",
       "      <td>https://en.wikipedia.org/wiki/Bhabhi_(1938_film)</td>\n",
       "      <td>Kishore (P. Jairaj) is a morally respectable m...</td>\n",
       "    </tr>\n",
       "    <tr>\n",
       "      <th>28882</th>\n",
       "      <td>2017</td>\n",
       "      <td>Sargi</td>\n",
       "      <td>Punjabi</td>\n",
       "      <td>Neeru Bajwa</td>\n",
       "      <td>Rubina Bajwa, Jassi Gill, Babbal Rai, B.N. Sha...</td>\n",
       "      <td>comedy/drama</td>\n",
       "      <td>https://en.wikipedia.org/wiki/Sargi</td>\n",
       "      <td>Sargi is a romantic love triangle involving Ru...</td>\n",
       "    </tr>\n",
       "  </tbody>\n",
       "</table>\n",
       "</div>"
      ],
      "text/plain": [
       "       Release Year                Title Origin/Ethnicity       Director  \\\n",
       "18493          1938  The Londonderry Air          British     Alex Bryce   \n",
       "5222           1950     The Second Woman         American  James V. Kern   \n",
       "23531          2004        Rice Rhapsody        Hong Kong     Kenneth Bi   \n",
       "24244          1938               Bhabhi        Bollywood    Franz Osten   \n",
       "28882          2017                Sargi          Punjabi    Neeru Bajwa   \n",
       "\n",
       "                                                    Cast                Genre  \\\n",
       "18493                         Sara Allgood, Liam Gaffney              romance   \n",
       "5222                           Robert Young, Betsy Drake            film noir   \n",
       "23531                           Sylvia Chang, Martin Yan               comedy   \n",
       "24244  P. Jairaj, Renuka Devi, Maya Devi, P. F. Pitha...  social family drama   \n",
       "28882  Rubina Bajwa, Jassi Gill, Babbal Rai, B.N. Sha...         comedy/drama   \n",
       "\n",
       "                                               Wiki Page  \\\n",
       "18493  https://en.wikipedia.org/wiki/The_Londonderry_...   \n",
       "5222      https://en.wikipedia.org/wiki/The_Second_Woman   \n",
       "23531        https://en.wikipedia.org/wiki/Rice_Rhapsody   \n",
       "24244   https://en.wikipedia.org/wiki/Bhabhi_(1938_film)   \n",
       "28882                https://en.wikipedia.org/wiki/Sargi   \n",
       "\n",
       "                                                    Plot  \n",
       "18493  A young woman abandons her plans to settle dow...  \n",
       "5222   This psychological thriller tells the story of...  \n",
       "23531  The film is set in Singapore's Chinatown. It i...  \n",
       "24244  Kishore (P. Jairaj) is a morally respectable m...  \n",
       "28882  Sargi is a romantic love triangle involving Ru...  "
      ]
     },
     "execution_count": 5,
     "metadata": {},
     "output_type": "execute_result"
    }
   ],
   "source": [
    "df.sample(5)"
   ]
  },
  {
   "cell_type": "code",
   "execution_count": 6,
   "metadata": {},
   "outputs": [],
   "source": [
    "df.drop(['Release Year', 'Origin/Ethnicity', 'Director', 'Cast', 'Wiki Page'], axis=1, inplace=True)"
   ]
  },
  {
   "cell_type": "markdown",
   "metadata": {},
   "source": [
    "#### Genres"
   ]
  },
  {
   "cell_type": "code",
   "execution_count": 7,
   "metadata": {},
   "outputs": [
    {
     "name": "stdout",
     "output_type": "stream",
     "text": [
      "There are 6083 movies out of 34886 with unknown genres.\n"
     ]
    }
   ],
   "source": [
    "print('There are {} movies out of {} with unknown genres.'.format(\n",
    "    df[df.Genre=='unknown'].shape[0] , df.shape[0]\n",
    "))\n",
    "\n",
    "movies_wo_genre = df[df.Genre == 'unknown']\n",
    "df.drop(df[df.Genre == 'unknown'].index, inplace=True)"
   ]
  },
  {
   "cell_type": "code",
   "execution_count": 8,
   "metadata": {},
   "outputs": [],
   "source": [
    "# genres were chosen as the words with the highest frequencies (which are also genres)\n",
    "\"\"\"\n",
    "genres_old = set([\n",
    "    'western', 'action', 'crime', 'biography', 'comedy', 'drama', 'adventure', 'fantasy', \n",
    "    'sports', 'horror', 'historical', 'serial', 'epic', 'mystery', 'romance','war', 'spy', \n",
    "    'romcom', 'animation', 'melodrama', 'documentary', 'family', 'thriller', 'musical', 'scifi', \n",
    "    'noir', 'disaster', 'political', 'adult', 'satire', 'mockumentary',  'psychological', \n",
    "    'martial', 'superhero', 'teen', 'children', 'supernatural', 'social', 'anime'\n",
    "])\n",
    "\"\"\"\n",
    "\n",
    "genres = set([\n",
    "    'comedy', 'scifi', 'horror', 'romance', 'action', 'thriller', 'drama', \n",
    "    'crime', 'adventure', 'fantasy', 'children', 'amimation'\n",
    "])\n",
    "\n",
    "# we replace the following collocations with genres from our list\n",
    "replacements = [\n",
    "    ('science fiction', ' scifi '),\n",
    "    ('science-fiction' , ' scifi '),\n",
    "    ('sci fi', 'scifi'),\n",
    "    ('sci-fi', 'scifi'),\n",
    "    ('science', ' scifi '),\n",
    "    ('animated', ' animation '),\n",
    "    ('romantic comedy', ' romcom romance comedy '),\n",
    "    ('romantic-comedy', ' romcom romance comedy '),\n",
    "    ('rom com', ' romcom romance comedy'),\n",
    "    ('romantic', ' romance '),\n",
    "    ('superheroes', ' superhero '),\n",
    "    ('tokusatsu', ' action '),\n",
    "    ('docudrama', ' documentary drama '),\n",
    "    ('dramedy', ' drama comedy '),\n",
    "    ('suspense', 'thriller')\n",
    "]\n",
    "\n",
    "def make_list_of_genres(text, replacements=replacements, genres=genres):\n",
    "    \"\"\"\n",
    "    Examples: \n",
    "    ----------\n",
    "    >>> text = 'drama  / comedy-biopick,  fantasy, science-fiction,, animation film'\n",
    "    >>> make_set_of_genres(text)\n",
    "    ['drama', 'comedy', 'biography', 'fantasy', 'scifi', 'animation', 'film']\n",
    "    \"\"\"\n",
    "\n",
    "    for replacement in replacements:\n",
    "        if replacement[0] in text:\n",
    "            text = text.replace(replacement[0], replacement[1])\n",
    "    \n",
    "    # we have words containing 'bio' replaced by 'biography'\n",
    "    if 'bio' in text:\n",
    "        text = re.sub(r'\\b(bio\\w*)', 'biography', text)\n",
    "    if 'child' in text:\n",
    "        text = re.sub(r'\\b(child\\w*)', \" children \", text)\n",
    "    if 'histor' in text:\n",
    "        text = re.sub(r'\\b(histor\\w*)', \" historical \", text)\n",
    "        \n",
    "    # I haven't found any easier way to split by multiple delimiters, including whitespaces \n",
    "    # and avoid ''\n",
    "    result = set(filter(None, re.split(',|/|-|\\s|–|;', text))) \n",
    "    \n",
    "    \n",
    "    return list(result & genres)"
   ]
  },
  {
   "cell_type": "code",
   "execution_count": 9,
   "metadata": {
    "scrolled": true
   },
   "outputs": [
    {
     "data": {
      "text/plain": [
       "['comedy', 'drama', 'fantasy', 'scifi', 'children']"
      ]
     },
     "execution_count": 9,
     "metadata": {},
     "output_type": "execute_result"
    }
   ],
   "source": [
    "# an example of using make_set_of_genres\n",
    "some_movie_genres = \"drama  / comedy-biopic,  fantasy, masala science-fiction,, animation film,,  children's\"\n",
    "make_list_of_genres(some_movie_genres)"
   ]
  },
  {
   "cell_type": "code",
   "execution_count": 10,
   "metadata": {},
   "outputs": [
    {
     "data": {
      "text/html": [
       "<div>\n",
       "<style scoped>\n",
       "    .dataframe tbody tr th:only-of-type {\n",
       "        vertical-align: middle;\n",
       "    }\n",
       "\n",
       "    .dataframe tbody tr th {\n",
       "        vertical-align: top;\n",
       "    }\n",
       "\n",
       "    .dataframe thead th {\n",
       "        text-align: right;\n",
       "    }\n",
       "</style>\n",
       "<table border=\"1\" class=\"dataframe\">\n",
       "  <thead>\n",
       "    <tr style=\"text-align: right;\">\n",
       "      <th></th>\n",
       "      <th>Title</th>\n",
       "      <th>Genre</th>\n",
       "      <th>Plot</th>\n",
       "    </tr>\n",
       "  </thead>\n",
       "  <tbody>\n",
       "    <tr>\n",
       "      <th>6</th>\n",
       "      <td>The Great Train Robbery</td>\n",
       "      <td>western</td>\n",
       "      <td>The film opens with two bandits breaking into ...</td>\n",
       "    </tr>\n",
       "    <tr>\n",
       "      <th>7</th>\n",
       "      <td>The Suburbanite</td>\n",
       "      <td>comedy</td>\n",
       "      <td>The film is about a family who move to the sub...</td>\n",
       "    </tr>\n",
       "    <tr>\n",
       "      <th>10</th>\n",
       "      <td>Dream of a Rarebit Fiend</td>\n",
       "      <td>short</td>\n",
       "      <td>The Rarebit Fiend gorges on Welsh rarebit at a...</td>\n",
       "    </tr>\n",
       "    <tr>\n",
       "      <th>11</th>\n",
       "      <td>From Leadville to Aspen: A Hold-Up in the Rockies</td>\n",
       "      <td>short action/crime western</td>\n",
       "      <td>The film features a train traveling through th...</td>\n",
       "    </tr>\n",
       "    <tr>\n",
       "      <th>12</th>\n",
       "      <td>Kathleen Mavourneen</td>\n",
       "      <td>short film</td>\n",
       "      <td>Irish villager Kathleen is a tenant of Captain...</td>\n",
       "    </tr>\n",
       "    <tr>\n",
       "      <th>...</th>\n",
       "      <td>...</td>\n",
       "      <td>...</td>\n",
       "      <td>...</td>\n",
       "    </tr>\n",
       "    <tr>\n",
       "      <th>34877</th>\n",
       "      <td>Particle (film)</td>\n",
       "      <td>drama film</td>\n",
       "      <td>Zeynep lost her job at weaving factory, and he...</td>\n",
       "    </tr>\n",
       "    <tr>\n",
       "      <th>34882</th>\n",
       "      <td>Çalgı Çengi İkimiz</td>\n",
       "      <td>comedy</td>\n",
       "      <td>Two musicians, Salih and Gürkan, described the...</td>\n",
       "    </tr>\n",
       "    <tr>\n",
       "      <th>34883</th>\n",
       "      <td>Olanlar Oldu</td>\n",
       "      <td>comedy</td>\n",
       "      <td>Zafer, a sailor living with his mother Döndü i...</td>\n",
       "    </tr>\n",
       "    <tr>\n",
       "      <th>34884</th>\n",
       "      <td>Non-Transferable</td>\n",
       "      <td>romantic comedy</td>\n",
       "      <td>The film centres around a young woman named Am...</td>\n",
       "    </tr>\n",
       "    <tr>\n",
       "      <th>34885</th>\n",
       "      <td>İstanbul Kırmızısı</td>\n",
       "      <td>romantic</td>\n",
       "      <td>The writer Orhan Şahin returns to İstanbul aft...</td>\n",
       "    </tr>\n",
       "  </tbody>\n",
       "</table>\n",
       "<p>28803 rows × 3 columns</p>\n",
       "</div>"
      ],
      "text/plain": [
       "                                                   Title  \\\n",
       "6                                The Great Train Robbery   \n",
       "7                                        The Suburbanite   \n",
       "10                              Dream of a Rarebit Fiend   \n",
       "11     From Leadville to Aspen: A Hold-Up in the Rockies   \n",
       "12                                   Kathleen Mavourneen   \n",
       "...                                                  ...   \n",
       "34877                                    Particle (film)   \n",
       "34882                                 Çalgı Çengi İkimiz   \n",
       "34883                                       Olanlar Oldu   \n",
       "34884                                   Non-Transferable   \n",
       "34885                                 İstanbul Kırmızısı   \n",
       "\n",
       "                            Genre  \\\n",
       "6                         western   \n",
       "7                          comedy   \n",
       "10                          short   \n",
       "11     short action/crime western   \n",
       "12                     short film   \n",
       "...                           ...   \n",
       "34877                  drama film   \n",
       "34882                      comedy   \n",
       "34883                      comedy   \n",
       "34884             romantic comedy   \n",
       "34885                    romantic   \n",
       "\n",
       "                                                    Plot  \n",
       "6      The film opens with two bandits breaking into ...  \n",
       "7      The film is about a family who move to the sub...  \n",
       "10     The Rarebit Fiend gorges on Welsh rarebit at a...  \n",
       "11     The film features a train traveling through th...  \n",
       "12     Irish villager Kathleen is a tenant of Captain...  \n",
       "...                                                  ...  \n",
       "34877  Zeynep lost her job at weaving factory, and he...  \n",
       "34882  Two musicians, Salih and Gürkan, described the...  \n",
       "34883  Zafer, a sailor living with his mother Döndü i...  \n",
       "34884  The film centres around a young woman named Am...  \n",
       "34885  The writer Orhan Şahin returns to İstanbul aft...  \n",
       "\n",
       "[28803 rows x 3 columns]"
      ]
     },
     "execution_count": 10,
     "metadata": {},
     "output_type": "execute_result"
    }
   ],
   "source": [
    "df"
   ]
  },
  {
   "cell_type": "code",
   "execution_count": 11,
   "metadata": {},
   "outputs": [],
   "source": [
    "genres_column = df.Genre.apply(make_list_of_genres)\n",
    "\n",
    "df.Genre = genres_column\n",
    "\n",
    "# we drop all entries where genre is not in the given list\n",
    "df.drop(genres_column[genres_column.apply(len) == 0].index, inplace=True)\n",
    "df.reset_index(inplace=True)\n",
    "df.drop(['index'], axis=1, inplace=True)"
   ]
  },
  {
   "cell_type": "code",
   "execution_count": 12,
   "metadata": {
    "scrolled": false
   },
   "outputs": [
    {
     "data": {
      "text/plain": [
       "<matplotlib.axes._subplots.AxesSubplot at 0x134e1a29780>"
      ]
     },
     "execution_count": 12,
     "metadata": {},
     "output_type": "execute_result"
    },
    {
     "data": {
      "image/png": "[encoded data removed]",
      "text/plain": [
       "<Figure size 1296x720 with 1 Axes>"
      ]
     },
     "metadata": {
      "needs_background": "light"
     },
     "output_type": "display_data"
    }
   ],
   "source": [
    "import seaborn as sns\n",
    "plt.figure(figsize=(18, 10))\n",
    "plt.title('Distribution by genres')\n",
    "genres_df = pd.DataFrame({'a':[y for x in df['Genre'] for y in x]})\n",
    "sns.countplot(x='a', data=genres_df)"
   ]
  },
  {
   "cell_type": "code",
   "execution_count": 13,
   "metadata": {},
   "outputs": [],
   "source": [
    "# adding columns for one-hot encoding of genre\n",
    "df = df.join(df.Genre.str.join('|').str.get_dummies())"
   ]
  },
  {
   "cell_type": "raw",
   "metadata": {},
   "source": [
    "# this block was needed to find out which words could have been chosen as the genres\n",
    "from itertools import dropwhile\n",
    "\n",
    "genres_concatenated = []\n",
    "for genre in genres_column:\n",
    "    genres_concatenated.extend(genre)\n",
    "    \n",
    "genres_word_counts = Counter(genres_concatenated)\n",
    "print(genres_word_counts)\n",
    "\n",
    "for key, count in dropwhile(lambda key_count: key_count[1] >= 30, genres_word_counts.most_common()):\n",
    "    del genres_word_counts[key]\n",
    "    \n",
    "genres = list(genres_word_counts.keys())\n",
    "print(genres_word_counts)"
   ]
  },
  {
   "cell_type": "markdown",
   "metadata": {},
   "source": [
    "#### Plot"
   ]
  },
  {
   "cell_type": "code",
   "execution_count": 14,
   "metadata": {},
   "outputs": [
    {
     "name": "stdout",
     "output_type": "stream",
     "text": [
      "Some stats for the plot lengths:\n",
      "\n",
      "count    23852.000000\n",
      "mean       387.565236\n",
      "std        313.827841\n",
      "min          2.000000\n",
      "25%        128.000000\n",
      "50%        312.000000\n",
      "75%        605.000000\n",
      "max       5130.000000\n",
      "Name: Plot, dtype: float64\n"
     ]
    },
    {
     "data": {
      "image/png": "[encoded data removed]",
      "text/plain": [
       "<Figure size 1296x432 with 1 Axes>"
      ]
     },
     "metadata": {
      "needs_background": "light"
     },
     "output_type": "display_data"
    }
   ],
   "source": [
    "def num_words(text):\n",
    "    return len(text.split())\n",
    "\n",
    "plot_lengths = df.Plot.apply(num_words)\n",
    "print('Some stats for the plot lengths:\\n')\n",
    "print(plot_lengths.describe())\n",
    "\n",
    "plt.figure(figsize=(18, 6))\n",
    "plt.hist(plot_lengths, range=(0, 1500), bins=50)\n",
    "plt.title(\"Distribution of movies's plot lengths\")\n",
    "plt.show()"
   ]
  },
  {
   "cell_type": "code",
   "execution_count": 15,
   "metadata": {},
   "outputs": [
    {
     "name": "stdout",
     "output_type": "stream",
     "text": [
      "A wild, wealthy woman (Joy) is brought to heel by a sermonizing district attorney after she accidentally hits and kills a motorcycle cop.\n",
      "\n",
      "Two reporters develop a relationship while investigating an aircraft accident.\n",
      "\n",
      "Al (Bill Williams) manages a company in a small town from which trucks make regular runs to Fairbanks.\n",
      "\n",
      "A fashion reporter is united with a former boyfriend, after a chance meeting, and helps him to track down an enemy spy.\n",
      "\n",
      "Convict 83 is a prisoner on an island, where the harsh regime of the Governor pushes him to lead a revolt.[1]\n",
      "\n",
      "Kelly's daughter falls for a revenue agent, and his divorced wife is after alimony.\n",
      "\n",
      "A detective goes undercover by taking a job as a bargee in order to prevent a woman's death.[2]\n",
      "\n",
      "It deals with a small-town boy, who comes to Calcutta to be a film actor, and gets involved in a modern-day thugee cult.[2]\r\n",
      "Cast\n",
      "\n",
      "Two identical sisters are able to switch places, leading to a series of unfortunate incidents.\n",
      "\n",
      "A forger's daughter is threatened by other criminals, forcing him to take drastic action.\n",
      "\n"
     ]
    }
   ],
   "source": [
    "# a quick loom at what short plots look like\n",
    "short_plots = df[plot_lengths < 25].sample(10).Plot\n",
    "for plot in short_plots:\n",
    "    print(plot + '\\n')"
   ]
  },
  {
   "cell_type": "markdown",
   "metadata": {},
   "source": [
    "--------------------------------------------------------------------------------------------------------------------------------\n",
    "short plots aren't very informative, and it's hard to determine the genre."
   ]
  },
  {
   "cell_type": "code",
   "execution_count": 16,
   "metadata": {
    "scrolled": false
   },
   "outputs": [
    {
     "name": "stdout",
     "output_type": "stream",
     "text": [
      "Insurance investigator Mike Davies looks into a suspicious fire that burned down a nightclub. He Initially suspects the club's manager, Harry Drayson, but when Davies meets Drayson's niece Stella, she helps him uncover a mob protection scheme responsible for the arson.\n",
      "\n",
      "Sachin Joshi is a Kabaddi Player who loved a girl and also married her after marriage in first night he will kill his wife and goes to the jail all of the proofs are showing Joshi as killer and the other story revolves around that what happened next\n",
      "\n",
      "Anthony (Shaam) is an orphan who grows up in a church situated in a coastal village near Tuticorin. The local priest (Rajesh) is his benefactor. Anthony is loving and caring towards the local fishermen and their families who are being exploited by the rowdy Michael (Lal).\n",
      "\n",
      "Wally Gibbs is sued for breach of promise by his former girlfriend Doris Chattaway. His current fiancée, Jane Elliott, breaks off their engagement. Wally ends up with Doris, and Jane pairs off with Wally's friend Hugh Delafield, who has been the Counsel for the Plaintiff in the lawsuit.\n",
      "\n",
      "Warner Baxter plays a security guard, wounded in a robbery of furs, who arouses the suspicions of an insurance investigator. The guard may or may not be a chemist who's been missing for seven years, declared dead, and whose widow collected $200,000 on his insurance policy.\n",
      "\n",
      "The film charts the homecoming of a British MI6 officer, who had been working with the French Resistance and was presumed dead. His wife is about to marry again, and to become an MP, and all must now readjust to the new situation.[2][3]\n",
      "\n",
      "Justine is a young virgin thrown out of a French orphanage and into the depraved world of prostitution. She slips into a life of debauchery, torture, whipping, slavery and salaciousness while her brazen, flirtatious and liberated sister Juliette ironically receives nothing but happiness and reward for her wanton behavior.\n",
      "\n",
      "Eustace McGargle (Fields), a con artist, snake oil salesman and exponent of the shell game, tries to escape the sheriff while taking care of his beloved adopted daughter, Poppy (Hudson), who after pretending to be an heiress to win an inheritance, turns out to really be an heiress.[3]\n",
      "\n",
      "Several servicemen relax by playing pool at their base. One later visits a prostitute and contracts syphilis. As a result of his unfortunate experience, there is an opportunity for sexual health information about syphilis, how it is spread and how its spread can be prevented.\n",
      "\n",
      "A modern comedy about the everyday perils of first year medical residents at a shabby south Florida hospital. Wood Harris is the Chief Resident, who teaches the trainees how to save lives and not take themselves too seriously, all the while hiding a chilling secret of his own.\n",
      "\n"
     ]
    }
   ],
   "source": [
    "# a quick look of what the plot of ~45 words looks like\n",
    "medium_plots = df[(plot_lengths>40) & (plot_lengths<50)].sample(10).Plot\n",
    "for plot in medium_plots:\n",
    "    print(plot + '\\n')"
   ]
  },
  {
   "cell_type": "markdown",
   "metadata": {},
   "source": [
    "------------------------------------------------------------------------------------------------------------------------------\n",
    "Let's cut off all the movies with short (< 40 words) plots. From the histogram above one can see that they constitute only for a small fraction of the total number of movies."
   ]
  },
  {
   "cell_type": "code",
   "execution_count": 17,
   "metadata": {},
   "outputs": [],
   "source": [
    "# dropping the rows with short plots\n",
    "df.drop((df[plot_lengths < 40]).index, inplace=True)\n",
    "df.reset_index(inplace=True)\n",
    "df.drop(['index'], axis=1, inplace=True)"
   ]
  },
  {
   "cell_type": "markdown",
   "metadata": {},
   "source": [
    "#### removing stopwords, tokenizing"
   ]
  },
  {
   "cell_type": "code",
   "execution_count": 18,
   "metadata": {},
   "outputs": [],
   "source": [
    "import nltk\n",
    "from nltk import word_tokenize\n",
    "from nltk.corpus import stopwords\n",
    "from nltk.stem import PorterStemmer\n",
    "from nltk.stem.wordnet import WordNetLemmatizer\n",
    "import string"
   ]
  },
  {
   "cell_type": "code",
   "execution_count": 19,
   "metadata": {},
   "outputs": [],
   "source": [
    "stopwords_english = stopwords.words('english')\n",
    "ps = PorterStemmer()"
   ]
  },
  {
   "cell_type": "code",
   "execution_count": 20,
   "metadata": {},
   "outputs": [],
   "source": [
    "def preprocess_text(text, stemmer, stopwords_list=stopwords_english):\n",
    "    \"\"\"\n",
    "    Converts to lowercase, removes punctuation and stopwords, tokenizes, stems the words. \n",
    "    Returns the list of tokens.\n",
    "    \"\"\"\n",
    "    \n",
    "    text = text.lower().translate(str.maketrans('', '', string.punctuation))\n",
    "    tokenized_text = word_tokenize(text)\n",
    "    result = []\n",
    "    for word in tokenized_text:\n",
    "        if word not in stopwords_list:\n",
    "            result.append(ps.stem(word))\n",
    "        \n",
    "    return result"
   ]
  },
  {
   "cell_type": "code",
   "execution_count": 21,
   "metadata": {},
   "outputs": [],
   "source": [
    "df['Plot_tokens'] = ''\n",
    "df['Plot_tokens'] = df.Plot.apply(preprocess_text, stopwords_list=stopwords_english, stemmer=ps)"
   ]
  },
  {
   "cell_type": "markdown",
   "metadata": {},
   "source": [
    "#### Train and test data"
   ]
  },
  {
   "cell_type": "code",
   "execution_count": 22,
   "metadata": {},
   "outputs": [],
   "source": [
    "from sklearn.model_selection import train_test_split\n",
    "df, df_test = train_test_split(df, test_size=0.2)"
   ]
  },
  {
   "cell_type": "code",
   "execution_count": 23,
   "metadata": {},
   "outputs": [],
   "source": [
    "df.reset_index(inplace=True)\n",
    "df.drop(['index'], axis=1, inplace=True)\n",
    "df_test.reset_index(inplace=True)\n",
    "df_test.drop(['index'], axis=1, inplace=True)"
   ]
  },
  {
   "cell_type": "markdown",
   "metadata": {},
   "source": [
    "#### Word2Vec, Tf-Idf and Getting vectors for 'Plots'"
   ]
  },
  {
   "cell_type": "code",
   "execution_count": 24,
   "metadata": {},
   "outputs": [],
   "source": [
    "from gensim.models import Word2Vec\n",
    "from sklearn.feature_extraction.text import TfidfVectorizer"
   ]
  },
  {
   "cell_type": "code",
   "execution_count": 25,
   "metadata": {},
   "outputs": [],
   "source": [
    "model = Word2Vec(df['Plot_tokens'], min_count = 25, size = 100, window=6) #change min_count = 25"
   ]
  },
  {
   "cell_type": "code",
   "execution_count": 26,
   "metadata": {},
   "outputs": [],
   "source": [
    "tfidf_vectorizer = TfidfVectorizer()\n",
    "tfidf_vectorizer.fit(df.Plot)\n",
    "tfidf_matrix_test = tfidf_vectorizer.transform(df_test.Plot) # should be plot_test\n",
    "tfidf_matrix = tfidf_vectorizer.transform(df.Plot)"
   ]
  },
  {
   "cell_type": "code",
   "execution_count": 27,
   "metadata": {},
   "outputs": [],
   "source": [
    "def document2vec(text, text_tokenized, idx, model, vectorizer, tfidf_matrix, vec_dim=100):\n",
    "    \"\"\"\n",
    "    Returns vector representation of text by summing W2V vectors with Tf-Idf weights\n",
    "    idx stands for the index of text inside of the tfidf_matrix\n",
    "    \"\"\"\n",
    "    doc_vec = np.zeros(vec_dim)\n",
    "    for word in text_tokenized:\n",
    "        if word in model.wv.vocab and word in vectorizer.vocabulary_:\n",
    "            doc_vec += model.wv[word] * tfidf_matrix[idx, vectorizer.vocabulary_[word]]\n",
    "            \n",
    "    return doc_vec"
   ]
  },
  {
   "cell_type": "code",
   "execution_count": 28,
   "metadata": {},
   "outputs": [],
   "source": [
    "# getting vector representations for df_test['Plot'].\n",
    "plot_vecs = np.empty([df.shape[0], 100]) \n",
    "for i in range(df.shape[0]):\n",
    "    plot_vecs[i] = document2vec(text=df.Plot[i], text_tokenized=df['Plot_tokens'][i], \n",
    "                               idx=i, model=model, vectorizer=tfidf_vectorizer, \n",
    "                               tfidf_matrix=tfidf_matrix)\n",
    "\n",
    "plot_vecs_test = np.empty([df_test.shape[0], 100]) \n",
    "for i in range(df_test.shape[0]):\n",
    "    plot_vecs_test[i] = document2vec(text=df_test.Plot[i], text_tokenized=df_test['Plot_tokens'][i], \n",
    "                               idx=i, model=model, vectorizer=tfidf_vectorizer, \n",
    "                               tfidf_matrix=tfidf_matrix_test)"
   ]
  },
  {
   "cell_type": "markdown",
   "metadata": {},
   "source": [
    "#### classification"
   ]
  },
  {
   "cell_type": "code",
   "execution_count": 29,
   "metadata": {},
   "outputs": [],
   "source": [
    "from sklearn.svm import LinearSVC\n",
    "from sklearn.metrics import accuracy_score"
   ]
  },
  {
   "cell_type": "code",
   "execution_count": 30,
   "metadata": {},
   "outputs": [],
   "source": [
    "genres = ['action', 'adventure', 'children', 'comedy', 'crime', 'drama',\n",
    "          'fantasy', 'horror', 'romance', 'scifi', 'thriller']"
   ]
  },
  {
   "cell_type": "code",
   "execution_count": 31,
   "metadata": {},
   "outputs": [
    {
     "name": "stderr",
     "output_type": "stream",
     "text": [
      "C:\\Users\\Temirlan\\Anaconda3\\lib\\site-packages\\sklearn\\svm\\base.py:929: ConvergenceWarning: Liblinear failed to converge, increase the number of iterations.\n",
      "  \"the number of iterations.\", ConvergenceWarning)\n",
      "C:\\Users\\Temirlan\\Anaconda3\\lib\\site-packages\\sklearn\\svm\\base.py:929: ConvergenceWarning: Liblinear failed to converge, increase the number of iterations.\n",
      "  \"the number of iterations.\", ConvergenceWarning)\n",
      "C:\\Users\\Temirlan\\Anaconda3\\lib\\site-packages\\sklearn\\svm\\base.py:929: ConvergenceWarning: Liblinear failed to converge, increase the number of iterations.\n",
      "  \"the number of iterations.\", ConvergenceWarning)\n",
      "C:\\Users\\Temirlan\\Anaconda3\\lib\\site-packages\\sklearn\\svm\\base.py:929: ConvergenceWarning: Liblinear failed to converge, increase the number of iterations.\n",
      "  \"the number of iterations.\", ConvergenceWarning)\n",
      "C:\\Users\\Temirlan\\Anaconda3\\lib\\site-packages\\sklearn\\svm\\base.py:929: ConvergenceWarning: Liblinear failed to converge, increase the number of iterations.\n",
      "  \"the number of iterations.\", ConvergenceWarning)\n",
      "C:\\Users\\Temirlan\\Anaconda3\\lib\\site-packages\\sklearn\\svm\\base.py:929: ConvergenceWarning: Liblinear failed to converge, increase the number of iterations.\n",
      "  \"the number of iterations.\", ConvergenceWarning)\n",
      "C:\\Users\\Temirlan\\Anaconda3\\lib\\site-packages\\sklearn\\svm\\base.py:929: ConvergenceWarning: Liblinear failed to converge, increase the number of iterations.\n",
      "  \"the number of iterations.\", ConvergenceWarning)\n",
      "C:\\Users\\Temirlan\\Anaconda3\\lib\\site-packages\\sklearn\\svm\\base.py:929: ConvergenceWarning: Liblinear failed to converge, increase the number of iterations.\n",
      "  \"the number of iterations.\", ConvergenceWarning)\n",
      "C:\\Users\\Temirlan\\Anaconda3\\lib\\site-packages\\sklearn\\svm\\base.py:929: ConvergenceWarning: Liblinear failed to converge, increase the number of iterations.\n",
      "  \"the number of iterations.\", ConvergenceWarning)\n",
      "C:\\Users\\Temirlan\\Anaconda3\\lib\\site-packages\\sklearn\\svm\\base.py:929: ConvergenceWarning: Liblinear failed to converge, increase the number of iterations.\n",
      "  \"the number of iterations.\", ConvergenceWarning)\n",
      "C:\\Users\\Temirlan\\Anaconda3\\lib\\site-packages\\sklearn\\svm\\base.py:929: ConvergenceWarning: Liblinear failed to converge, increase the number of iterations.\n",
      "  \"the number of iterations.\", ConvergenceWarning)\n"
     ]
    }
   ],
   "source": [
    "accuracies = {}\n",
    "for genre in genres:\n",
    "    clf = LinearSVC(max_iter=10000)\n",
    "    clf.fit(plot_vecs, y=df[genre])\n",
    "    y_pred = clf.predict(plot_vecs_test)    \n",
    "    accuracies[genre] = accuracy_score(y_pred=y_pred, y_true=df_test[genre])"
   ]
  },
  {
   "cell_type": "code",
   "execution_count": 32,
   "metadata": {},
   "outputs": [
    {
     "name": "stdout",
     "output_type": "stream",
     "text": [
      "accuracy for  action : 0.8904931141714794\n",
      "accuracy for  adventure : 0.9646823633940471\n",
      "accuracy for  children : 0.998223011994669\n",
      "accuracy for  comedy : 0.6945801865837405\n",
      "accuracy for  crime : 0.9224788982674367\n",
      "accuracy for  drama : 0.6259440248778321\n",
      "accuracy for  fantasy : 0.9733451799200356\n",
      "accuracy for  horror : 0.9284762327854287\n",
      "accuracy for  romance : 0.8922701021768104\n",
      "accuracy for  scifi : 0.962239004886717\n",
      "accuracy for  thriller : 0.9164815637494447\n"
     ]
    }
   ],
   "source": [
    "for key, val in zip(accuracies.keys(), accuracies.values()):\n",
    "    print('accuracy for ', key, ':', val)"
   ]
  }
 ],
 "metadata": {
  "kernelspec": {
   "display_name": "Python 3",
   "language": "python",
   "name": "python3"
  },
  "language_info": {
   "codemirror_mode": {
    "name": "ipython",
    "version": 3
   },
   "file_extension": ".py",
   "mimetype": "text/x-python",
   "name": "python",
   "nbconvert_exporter": "python",
   "pygments_lexer": "ipython3",
   "version": "3.7.1"
  }
 },
 "nbformat": 4,
 "nbformat_minor": 2
}
